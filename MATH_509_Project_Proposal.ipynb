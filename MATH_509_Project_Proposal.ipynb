{
 "cells": [
  {
   "cell_type": "markdown",
   "metadata": {},
   "source": [
    "Math 509: Project Proposal\n",
    "===============\n",
    "Group Members: \n",
    "<ul>\n",
    "<li>Aysha Araien (1458834)</li>\n",
    "<li>Preet Parmar (1468501)</li>\n",
    "</ul>"
   ]
  },
  {
   "cell_type": "markdown",
   "metadata": {},
   "source": [
    "Introduction \n",
    "---------------\n",
    "\n",
    "\n",
    "The aim of this project is to create a supervised model which will predict the genre of an inputted song using features in a labelled audio dataset. To train the model, we will use descriptive features such as song title, artist, composers, tags, and intrinsic features of the audio such as the song’s mel-frequency cepstrum (mfcc). A few periphery goals include creating a recommender system accessory to the network and a prototype model for emotion recognition in songs.\n",
    "\n",
    "We will be using Free Music Archive;  a dataset hosted on a Github repository by Michaël Defferrard, Kirell Benzi, Pierre Vandergheynst, and Xavier Bresson. The dataset contains “106,574 tracks from 16,341 artists and 14,854 albums, arranged in a hierarchical taxonomy of 161 genres” (1).\n",
    "\n",
    "Goal #1\n",
    "---------------\n",
    "\n",
    "Our primary goal for this project is to create a model which will intake various features of a song and output the genre. To build the model, we will split the dataset into training and testing data. Since it contains genre labels, we can use these to check the performance of our model. Once a base model has been built, we will fine tune the architecture (network layers) and  hyperparameters of the networks such as the loss function, number of iterations, epochs, and tolerance to optimize the accuracy. \n",
    "\n",
    "Goal #2\n",
    "---------------\n",
    "\n",
    "A subgoal is to create a recommendation system that will output a list of songs based on the input song. We will build the recommendation system on top of the neural network model that produced the highest accuracy from Goal #1. Using the genre outputted from that model alongside a few other features in the dataset, we will create a recommendation system that will output songs that are similar to an “input” song based on cosine similarity. In theory, this will mimic a “shuffle algorithm” on popular music applications. If we can find listener data, we will also take into account the listening preferences of others that have listened to the input song via collaborative filtering.\n",
    "\n",
    "Goal #3\n",
    "---------------\n",
    "\n",
    "Since the dataset contains numerous features, one of our goals is to group the songs by emotions that could be attributed to a song. For example, some songs can evoke “sadness” while others may cause “joy” (2). To complete this task, we will use k-means clustering methods. The algorithm will take into account features such as danceability, acousticness, or tempo which are likely to have an effect on emotions the song would evoke. We will experiment with different “k” values to  determine the best clusters. After running the algorithm, we will assign labels "
   ]
  },
  {
   "cell_type": "markdown",
   "metadata": {},
   "source": [
    "References\n",
    "---------------\n",
    "\n",
    "(1) Mdeff. (2016, December 2). MDEFF/FMA: FMA: A dataset for Music Analysis. GitHub. Retrieved September 24, 2021, from https://github.com/mdeff/fma.\n",
    "\n",
    "(2) Cowen, A. S., Fang, X., Sauter, D., & Keltner, D. (2020). What music makes us feel: At least 13 dimensions organize subjective experiences associated with music across different cultures. Proceedings of the National Academy of Sciences, 117(4), 1924–1934. https://doi.org/10.1073/pnas.1910704117"
   ]
  }
 ],
 "metadata": {
  "kernelspec": {
   "display_name": "Python 3 (ipykernel)",
   "language": "python",
   "name": "python3"
  },
  "language_info": {
   "codemirror_mode": {
    "name": "ipython",
    "version": 3
   },
   "file_extension": ".py",
   "mimetype": "text/x-python",
   "name": "python",
   "nbconvert_exporter": "python",
   "pygments_lexer": "ipython3",
   "version": "3.9.6"
  }
 },
 "nbformat": 4,
 "nbformat_minor": 2
}
