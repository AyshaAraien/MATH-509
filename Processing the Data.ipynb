{
 "cells": [
  {
   "cell_type": "code",
   "execution_count": null,
   "id": "a1f6fccd",
   "metadata": {},
   "outputs": [],
   "source": [
    "import json\n",
    "import os\n",
    "import math\n",
    "import librosa"
   ]
  },
  {
   "cell_type": "code",
   "execution_count": null,
   "id": "8d68359b",
   "metadata": {},
   "outputs": [],
   "source": [
    "data_loc = \"/Users/Aysha/Downloads/Data/genres_original/data\"\n",
    "json_loc = \"/Users/Aysha/Downloads/Data/genres_original/data/data_10.json\"\n",
    "sample_number = 22050 # number of samples taken from the dataset\n",
    "song_time = 30 # this is the number of seconds of the song\n",
    "samples_per_song = sample_number * song_time"
   ]
  },
  {
   "cell_type": "code",
   "execution_count": null,
   "id": "cfdafd4e",
   "metadata": {},
   "outputs": [],
   "source": [
    "# the process of this code is to extract all the necessary information from the data file\n",
    "\n",
    "def audio_features(data_loc, json_loc, features_num=13, fft_num=2048, hop_length=512, segments_num=5):\n",
    "    \n",
    "    # dictionary to store information\n",
    "    data = {\n",
    "        \"mapping\": [],\n",
    "        \"labels\": [],\n",
    "        \"mfcc\": []\n",
    "    }\n",
    "\n",
    "    samples_per_segment = int(samples_per_song / segments_num)\n",
    "    features_num_vectors_per_segment = math.ceil(samples_per_segment / hop_length)\n",
    "\n",
    "    \n",
    "    # go through info in sub-folders\n",
    "    for i, (dirpath, dirnames, filenames) in enumerate(os.walk(data_loc)):\n",
    "\n",
    "        if dirpath is not data_loc:\n",
    "\n",
    "            # save genre name in the \"mapping\" portion of dictionary\n",
    "            genre_label = dirpath.split(\"/\")[-1]\n",
    "            data[\"mapping\"].append(genre_label)\n",
    "            print(\"\\nProcessing: {}\".format(genre_label))\n",
    "\n",
    "            \n",
    "            # get the audio file info from sub-folders\n",
    "            for f in filenames:\n",
    "\n",
    "                file_path = os.path.join(dirpath, f)\n",
    "                signal, sample_number = librosa.load(file_path, sr=sample_number)\n",
    "\n",
    "                \n",
    "                for d in range(segments_num):\n",
    "\n",
    "                    # get the start time and the finish time for when looking at segments\n",
    "                    start = samples_per_segment * d\n",
    "                    finish = start + samples_per_segment\n",
    "\n",
    "                    # get the features\n",
    "                    features = librosa.feature.features(signal[start:finish], sample_rate, n_features=features_num, fft_num=fft_num, hop_length=hop_length)\n",
    "                    features = features.T\n",
    "\n",
    "                    # only keep the features with a certain number of vectors\n",
    "                    if len(features) == features_num_vectors_per_segment:\n",
    "                        data[\"mfcc\"].append(features.tolist())\n",
    "                        data[\"labels\"].append(i-1)\n",
    "                        print(\"{}, segment:{}\".format(file_path, d+1))\n",
    "\n",
    "    # save featuress to json file\n",
    "    with open(json_loc, \"w\") as fp:\n",
    "        json.dump(data, fp, indent=4)\n",
    "        \n",
    "        \n",
    "if __name__ == \"__main__\":\n",
    "    save_features(data_loc, json_loc, segments_num=10)    "
   ]
  }
 ],
 "metadata": {
  "kernelspec": {
   "display_name": "Python 3 (ipykernel)",
   "language": "python",
   "name": "python3"
  },
  "language_info": {
   "codemirror_mode": {
    "name": "ipython",
    "version": 3
   },
   "file_extension": ".py",
   "mimetype": "text/x-python",
   "name": "python",
   "nbconvert_exporter": "python",
   "pygments_lexer": "ipython3",
   "version": "3.9.6"
  }
 },
 "nbformat": 4,
 "nbformat_minor": 5
}
